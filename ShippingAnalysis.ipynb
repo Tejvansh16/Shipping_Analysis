{
 "cells": [
  {
   "cell_type": "markdown",
   "id": "9894ac8e",
   "metadata": {},
   "source": [
    "# Importing libraries"
   ]
  },
  {
   "cell_type": "code",
   "execution_count": 1,
   "id": "844ec707",
   "metadata": {},
   "outputs": [],
   "source": [
    "import pandas as pd\n",
    "import numpy as np\n",
    "import matplotlib.pyplot as plt\n",
    "import seaborn as sns\n",
    "import warnings\n",
    "warnings.filterwarnings('ignore')"
   ]
  },
  {
   "cell_type": "markdown",
   "id": "5e1daf09",
   "metadata": {},
   "source": [
    "# Importing dataset"
   ]
  },
  {
   "cell_type": "code",
   "execution_count": 2,
   "id": "f4dc6807",
   "metadata": {},
   "outputs": [
    {
     "data": {
      "text/html": [
       "<div>\n",
       "<style scoped>\n",
       "    .dataframe tbody tr th:only-of-type {\n",
       "        vertical-align: middle;\n",
       "    }\n",
       "\n",
       "    .dataframe tbody tr th {\n",
       "        vertical-align: top;\n",
       "    }\n",
       "\n",
       "    .dataframe thead th {\n",
       "        text-align: right;\n",
       "    }\n",
       "</style>\n",
       "<table border=\"1\" class=\"dataframe\">\n",
       "  <thead>\n",
       "    <tr style=\"text-align: right;\">\n",
       "      <th></th>\n",
       "      <th>name</th>\n",
       "      <th>price ($)</th>\n",
       "      <th>weight (kg)</th>\n",
       "      <th>length (m)</th>\n",
       "      <th>width (m)</th>\n",
       "      <th>height (m)</th>\n",
       "      <th>shipment date</th>\n",
       "      <th>destination port</th>\n",
       "    </tr>\n",
       "  </thead>\n",
       "  <tbody>\n",
       "    <tr>\n",
       "      <th>0</th>\n",
       "      <td>Camera Bag</td>\n",
       "      <td>37.66</td>\n",
       "      <td>1.10</td>\n",
       "      <td>0.40</td>\n",
       "      <td>0.39</td>\n",
       "      <td>0.26</td>\n",
       "      <td>2023-03-19</td>\n",
       "      <td>Port of Singapore (Singapore)</td>\n",
       "    </tr>\n",
       "    <tr>\n",
       "      <th>1</th>\n",
       "      <td>Portable Bluetooth Keyboard</td>\n",
       "      <td>144.65</td>\n",
       "      <td>0.39</td>\n",
       "      <td>0.11</td>\n",
       "      <td>0.06</td>\n",
       "      <td>0.03</td>\n",
       "      <td>2023-03-21</td>\n",
       "      <td>Port of Busan (South Korea)</td>\n",
       "    </tr>\n",
       "    <tr>\n",
       "      <th>2</th>\n",
       "      <td>Large Flat Rate Box</td>\n",
       "      <td>38.57</td>\n",
       "      <td>0.97</td>\n",
       "      <td>0.79</td>\n",
       "      <td>0.55</td>\n",
       "      <td>0.35</td>\n",
       "      <td>2023-03-25</td>\n",
       "      <td>Port of Tianjin (China)</td>\n",
       "    </tr>\n",
       "    <tr>\n",
       "      <th>3</th>\n",
       "      <td>Ceramic Tiles</td>\n",
       "      <td>10.34</td>\n",
       "      <td>6.22</td>\n",
       "      <td>0.36</td>\n",
       "      <td>0.37</td>\n",
       "      <td>0.02</td>\n",
       "      <td>2023-03-15</td>\n",
       "      <td>Port of Shanghai (China)</td>\n",
       "    </tr>\n",
       "    <tr>\n",
       "      <th>4</th>\n",
       "      <td>Garden Hose</td>\n",
       "      <td>21.63</td>\n",
       "      <td>1.18</td>\n",
       "      <td>17.77</td>\n",
       "      <td>0.27</td>\n",
       "      <td>0.13</td>\n",
       "      <td>2023-03-25</td>\n",
       "      <td>Port of Tianjin (China)</td>\n",
       "    </tr>\n",
       "    <tr>\n",
       "      <th>...</th>\n",
       "      <td>...</td>\n",
       "      <td>...</td>\n",
       "      <td>...</td>\n",
       "      <td>...</td>\n",
       "      <td>...</td>\n",
       "      <td>...</td>\n",
       "      <td>...</td>\n",
       "      <td>...</td>\n",
       "    </tr>\n",
       "    <tr>\n",
       "      <th>263816</th>\n",
       "      <td>Canister</td>\n",
       "      <td>23.58</td>\n",
       "      <td>3.80</td>\n",
       "      <td>0.38</td>\n",
       "      <td>0.37</td>\n",
       "      <td>0.28</td>\n",
       "      <td>2023-03-13</td>\n",
       "      <td>Port of Busan (South Korea)</td>\n",
       "    </tr>\n",
       "    <tr>\n",
       "      <th>263817</th>\n",
       "      <td>Plant</td>\n",
       "      <td>15.98</td>\n",
       "      <td>1.20</td>\n",
       "      <td>0.42</td>\n",
       "      <td>0.29</td>\n",
       "      <td>0.34</td>\n",
       "      <td>2023-03-15</td>\n",
       "      <td>Port of Tokyo (Japan)</td>\n",
       "    </tr>\n",
       "    <tr>\n",
       "      <th>263818</th>\n",
       "      <td>Pallete of Dog Food</td>\n",
       "      <td>223.05</td>\n",
       "      <td>477.58</td>\n",
       "      <td>1.00</td>\n",
       "      <td>0.92</td>\n",
       "      <td>1.48</td>\n",
       "      <td>2023-03-19</td>\n",
       "      <td>Port of Tokyo (Japan)</td>\n",
       "    </tr>\n",
       "    <tr>\n",
       "      <th>263819</th>\n",
       "      <td>Coffee Maker</td>\n",
       "      <td>169.09</td>\n",
       "      <td>2.52</td>\n",
       "      <td>0.26</td>\n",
       "      <td>0.20</td>\n",
       "      <td>0.29</td>\n",
       "      <td>2023-03-20</td>\n",
       "      <td>Port of Shanghai (China)</td>\n",
       "    </tr>\n",
       "    <tr>\n",
       "      <th>263820</th>\n",
       "      <td>Pallete of Laptops</td>\n",
       "      <td>11674.74</td>\n",
       "      <td>24855.97</td>\n",
       "      <td>0.63</td>\n",
       "      <td>0.52</td>\n",
       "      <td>0.14</td>\n",
       "      <td>2023-03-22</td>\n",
       "      <td>Port of Shanghai (China)</td>\n",
       "    </tr>\n",
       "  </tbody>\n",
       "</table>\n",
       "<p>263821 rows × 8 columns</p>\n",
       "</div>"
      ],
      "text/plain": [
       "                               name  price ($)  weight (kg)  length (m)  \\\n",
       "0                        Camera Bag      37.66         1.10        0.40   \n",
       "1       Portable Bluetooth Keyboard     144.65         0.39        0.11   \n",
       "2               Large Flat Rate Box      38.57         0.97        0.79   \n",
       "3                     Ceramic Tiles      10.34         6.22        0.36   \n",
       "4                       Garden Hose      21.63         1.18       17.77   \n",
       "...                             ...        ...          ...         ...   \n",
       "263816                     Canister      23.58         3.80        0.38   \n",
       "263817                        Plant      15.98         1.20        0.42   \n",
       "263818          Pallete of Dog Food     223.05       477.58        1.00   \n",
       "263819                 Coffee Maker     169.09         2.52        0.26   \n",
       "263820           Pallete of Laptops   11674.74     24855.97        0.63   \n",
       "\n",
       "        width (m)  height (m) shipment date               destination port  \n",
       "0            0.39        0.26    2023-03-19  Port of Singapore (Singapore)  \n",
       "1            0.06        0.03    2023-03-21    Port of Busan (South Korea)  \n",
       "2            0.55        0.35    2023-03-25        Port of Tianjin (China)  \n",
       "3            0.37        0.02    2023-03-15       Port of Shanghai (China)  \n",
       "4            0.27        0.13    2023-03-25        Port of Tianjin (China)  \n",
       "...           ...         ...           ...                            ...  \n",
       "263816       0.37        0.28    2023-03-13    Port of Busan (South Korea)  \n",
       "263817       0.29        0.34    2023-03-15          Port of Tokyo (Japan)  \n",
       "263818       0.92        1.48    2023-03-19          Port of Tokyo (Japan)  \n",
       "263819       0.20        0.29    2023-03-20       Port of Shanghai (China)  \n",
       "263820       0.52        0.14    2023-03-22       Port of Shanghai (China)  \n",
       "\n",
       "[263821 rows x 8 columns]"
      ]
     },
     "execution_count": 2,
     "metadata": {},
     "output_type": "execute_result"
    }
   ],
   "source": [
    "df=pd.read_csv('shipping_data.csv')\n",
    "df"
   ]
  },
  {
   "cell_type": "markdown",
   "id": "8993db87",
   "metadata": {},
   "source": [
    "# Data Cleaning"
   ]
  },
  {
   "cell_type": "code",
   "execution_count": 3,
   "id": "e75bd72d",
   "metadata": {},
   "outputs": [],
   "source": [
    "df['name']=df['name'].replace({'Air Conditioners': 'Air Conditioner', 'Tablets': 'Tablet',  'Washing machine': 'Washing Machine'})"
   ]
  },
  {
   "cell_type": "code",
   "execution_count": 4,
   "id": "9c1b0a9a",
   "metadata": {},
   "outputs": [],
   "source": [
    "df = df.rename(columns={'price ($)': 'price_($)', 'weight (kg)': 'weight_(kg)', 'destination port': 'destination_port',\\\n",
    "                  'weight (kg)': 'weight_(kg)', 'length (m)': 'length_(m)', 'width (m)': 'width_(m)', \\\n",
    "                   'height (m)': 'height_(m)', 'shipment date': 'shipment_date'})"
   ]
  },
  {
   "cell_type": "code",
   "execution_count": 5,
   "id": "8f24ccf4",
   "metadata": {},
   "outputs": [
    {
     "data": {
      "text/html": [
       "<div>\n",
       "<style scoped>\n",
       "    .dataframe tbody tr th:only-of-type {\n",
       "        vertical-align: middle;\n",
       "    }\n",
       "\n",
       "    .dataframe tbody tr th {\n",
       "        vertical-align: top;\n",
       "    }\n",
       "\n",
       "    .dataframe thead th {\n",
       "        text-align: right;\n",
       "    }\n",
       "</style>\n",
       "<table border=\"1\" class=\"dataframe\">\n",
       "  <thead>\n",
       "    <tr style=\"text-align: right;\">\n",
       "      <th></th>\n",
       "      <th>name</th>\n",
       "      <th>price_($)</th>\n",
       "      <th>weight_(kg)</th>\n",
       "      <th>length_(m)</th>\n",
       "      <th>width_(m)</th>\n",
       "      <th>height_(m)</th>\n",
       "      <th>shipment_date</th>\n",
       "      <th>destination_port</th>\n",
       "    </tr>\n",
       "  </thead>\n",
       "  <tbody>\n",
       "    <tr>\n",
       "      <th>0</th>\n",
       "      <td>Camera Bag</td>\n",
       "      <td>37.66</td>\n",
       "      <td>1.10</td>\n",
       "      <td>0.40</td>\n",
       "      <td>0.39</td>\n",
       "      <td>0.26</td>\n",
       "      <td>2023-03-19</td>\n",
       "      <td>Port of Singapore (Singapore)</td>\n",
       "    </tr>\n",
       "    <tr>\n",
       "      <th>1</th>\n",
       "      <td>Portable Bluetooth Keyboard</td>\n",
       "      <td>144.65</td>\n",
       "      <td>0.39</td>\n",
       "      <td>0.11</td>\n",
       "      <td>0.06</td>\n",
       "      <td>0.03</td>\n",
       "      <td>2023-03-21</td>\n",
       "      <td>Port of Busan (South Korea)</td>\n",
       "    </tr>\n",
       "    <tr>\n",
       "      <th>2</th>\n",
       "      <td>Large Flat Rate Box</td>\n",
       "      <td>38.57</td>\n",
       "      <td>0.97</td>\n",
       "      <td>0.79</td>\n",
       "      <td>0.55</td>\n",
       "      <td>0.35</td>\n",
       "      <td>2023-03-25</td>\n",
       "      <td>Port of Tianjin (China)</td>\n",
       "    </tr>\n",
       "    <tr>\n",
       "      <th>3</th>\n",
       "      <td>Ceramic Tiles</td>\n",
       "      <td>10.34</td>\n",
       "      <td>6.22</td>\n",
       "      <td>0.36</td>\n",
       "      <td>0.37</td>\n",
       "      <td>0.02</td>\n",
       "      <td>2023-03-15</td>\n",
       "      <td>Port of Shanghai (China)</td>\n",
       "    </tr>\n",
       "    <tr>\n",
       "      <th>4</th>\n",
       "      <td>Garden Hose</td>\n",
       "      <td>21.63</td>\n",
       "      <td>1.18</td>\n",
       "      <td>17.77</td>\n",
       "      <td>0.27</td>\n",
       "      <td>0.13</td>\n",
       "      <td>2023-03-25</td>\n",
       "      <td>Port of Tianjin (China)</td>\n",
       "    </tr>\n",
       "    <tr>\n",
       "      <th>...</th>\n",
       "      <td>...</td>\n",
       "      <td>...</td>\n",
       "      <td>...</td>\n",
       "      <td>...</td>\n",
       "      <td>...</td>\n",
       "      <td>...</td>\n",
       "      <td>...</td>\n",
       "      <td>...</td>\n",
       "    </tr>\n",
       "    <tr>\n",
       "      <th>263816</th>\n",
       "      <td>Canister</td>\n",
       "      <td>23.58</td>\n",
       "      <td>3.80</td>\n",
       "      <td>0.38</td>\n",
       "      <td>0.37</td>\n",
       "      <td>0.28</td>\n",
       "      <td>2023-03-13</td>\n",
       "      <td>Port of Busan (South Korea)</td>\n",
       "    </tr>\n",
       "    <tr>\n",
       "      <th>263817</th>\n",
       "      <td>Plant</td>\n",
       "      <td>15.98</td>\n",
       "      <td>1.20</td>\n",
       "      <td>0.42</td>\n",
       "      <td>0.29</td>\n",
       "      <td>0.34</td>\n",
       "      <td>2023-03-15</td>\n",
       "      <td>Port of Tokyo (Japan)</td>\n",
       "    </tr>\n",
       "    <tr>\n",
       "      <th>263818</th>\n",
       "      <td>Pallete of Dog Food</td>\n",
       "      <td>223.05</td>\n",
       "      <td>477.58</td>\n",
       "      <td>1.00</td>\n",
       "      <td>0.92</td>\n",
       "      <td>1.48</td>\n",
       "      <td>2023-03-19</td>\n",
       "      <td>Port of Tokyo (Japan)</td>\n",
       "    </tr>\n",
       "    <tr>\n",
       "      <th>263819</th>\n",
       "      <td>Coffee Maker</td>\n",
       "      <td>169.09</td>\n",
       "      <td>2.52</td>\n",
       "      <td>0.26</td>\n",
       "      <td>0.20</td>\n",
       "      <td>0.29</td>\n",
       "      <td>2023-03-20</td>\n",
       "      <td>Port of Shanghai (China)</td>\n",
       "    </tr>\n",
       "    <tr>\n",
       "      <th>263820</th>\n",
       "      <td>Pallete of Laptops</td>\n",
       "      <td>11674.74</td>\n",
       "      <td>24855.97</td>\n",
       "      <td>0.63</td>\n",
       "      <td>0.52</td>\n",
       "      <td>0.14</td>\n",
       "      <td>2023-03-22</td>\n",
       "      <td>Port of Shanghai (China)</td>\n",
       "    </tr>\n",
       "  </tbody>\n",
       "</table>\n",
       "<p>263821 rows × 8 columns</p>\n",
       "</div>"
      ],
      "text/plain": [
       "                               name  price_($)  weight_(kg)  length_(m)  \\\n",
       "0                        Camera Bag      37.66         1.10        0.40   \n",
       "1       Portable Bluetooth Keyboard     144.65         0.39        0.11   \n",
       "2               Large Flat Rate Box      38.57         0.97        0.79   \n",
       "3                     Ceramic Tiles      10.34         6.22        0.36   \n",
       "4                       Garden Hose      21.63         1.18       17.77   \n",
       "...                             ...        ...          ...         ...   \n",
       "263816                     Canister      23.58         3.80        0.38   \n",
       "263817                        Plant      15.98         1.20        0.42   \n",
       "263818          Pallete of Dog Food     223.05       477.58        1.00   \n",
       "263819                 Coffee Maker     169.09         2.52        0.26   \n",
       "263820           Pallete of Laptops   11674.74     24855.97        0.63   \n",
       "\n",
       "        width_(m)  height_(m) shipment_date               destination_port  \n",
       "0            0.39        0.26    2023-03-19  Port of Singapore (Singapore)  \n",
       "1            0.06        0.03    2023-03-21    Port of Busan (South Korea)  \n",
       "2            0.55        0.35    2023-03-25        Port of Tianjin (China)  \n",
       "3            0.37        0.02    2023-03-15       Port of Shanghai (China)  \n",
       "4            0.27        0.13    2023-03-25        Port of Tianjin (China)  \n",
       "...           ...         ...           ...                            ...  \n",
       "263816       0.37        0.28    2023-03-13    Port of Busan (South Korea)  \n",
       "263817       0.29        0.34    2023-03-15          Port of Tokyo (Japan)  \n",
       "263818       0.92        1.48    2023-03-19          Port of Tokyo (Japan)  \n",
       "263819       0.20        0.29    2023-03-20       Port of Shanghai (China)  \n",
       "263820       0.52        0.14    2023-03-22       Port of Shanghai (China)  \n",
       "\n",
       "[263821 rows x 8 columns]"
      ]
     },
     "execution_count": 5,
     "metadata": {},
     "output_type": "execute_result"
    }
   ],
   "source": [
    "df"
   ]
  },
  {
   "cell_type": "code",
   "execution_count": 6,
   "id": "4d100901",
   "metadata": {},
   "outputs": [
    {
     "data": {
      "text/plain": [
       "name                   0\n",
       "price_($)              0\n",
       "weight_(kg)           13\n",
       "length_(m)           184\n",
       "width_(m)              0\n",
       "height_(m)             0\n",
       "shipment_date       2638\n",
       "destination_port      26\n",
       "dtype: int64"
      ]
     },
     "execution_count": 6,
     "metadata": {},
     "output_type": "execute_result"
    }
   ],
   "source": [
    "df.isnull().sum()"
   ]
  },
  {
   "cell_type": "code",
   "execution_count": 7,
   "id": "b3543ab9",
   "metadata": {},
   "outputs": [],
   "source": [
    "df.dropna(inplace=True)"
   ]
  },
  {
   "cell_type": "code",
   "execution_count": 8,
   "id": "1a70680a",
   "metadata": {},
   "outputs": [
    {
     "data": {
      "text/plain": [
       "name                0\n",
       "price_($)           0\n",
       "weight_(kg)         0\n",
       "length_(m)          0\n",
       "width_(m)           0\n",
       "height_(m)          0\n",
       "shipment_date       0\n",
       "destination_port    0\n",
       "dtype: int64"
      ]
     },
     "execution_count": 8,
     "metadata": {},
     "output_type": "execute_result"
    }
   ],
   "source": [
    "df.isnull().sum()"
   ]
  },
  {
   "cell_type": "markdown",
   "id": "da613bd7",
   "metadata": {},
   "source": [
    "# Analyzing data"
   ]
  },
  {
   "cell_type": "code",
   "execution_count": 9,
   "id": "8c288a34",
   "metadata": {},
   "outputs": [
    {
     "name": "stdout",
     "output_type": "stream",
     "text": [
      "<class 'pandas.core.frame.DataFrame'>\n",
      "Int64Index: 260961 entries, 0 to 263820\n",
      "Data columns (total 8 columns):\n",
      " #   Column            Non-Null Count   Dtype  \n",
      "---  ------            --------------   -----  \n",
      " 0   name              260961 non-null  object \n",
      " 1   price_($)         260961 non-null  float64\n",
      " 2   weight_(kg)       260961 non-null  float64\n",
      " 3   length_(m)        260961 non-null  float64\n",
      " 4   width_(m)         260961 non-null  float64\n",
      " 5   height_(m)        260961 non-null  float64\n",
      " 6   shipment_date     260961 non-null  object \n",
      " 7   destination_port  260961 non-null  object \n",
      "dtypes: float64(5), object(3)\n",
      "memory usage: 17.9+ MB\n"
     ]
    }
   ],
   "source": [
    "df.info()"
   ]
  },
  {
   "cell_type": "code",
   "execution_count": 10,
   "id": "d16dca52",
   "metadata": {},
   "outputs": [
    {
     "data": {
      "text/html": [
       "<div>\n",
       "<style scoped>\n",
       "    .dataframe tbody tr th:only-of-type {\n",
       "        vertical-align: middle;\n",
       "    }\n",
       "\n",
       "    .dataframe tbody tr th {\n",
       "        vertical-align: top;\n",
       "    }\n",
       "\n",
       "    .dataframe thead th {\n",
       "        text-align: right;\n",
       "    }\n",
       "</style>\n",
       "<table border=\"1\" class=\"dataframe\">\n",
       "  <thead>\n",
       "    <tr style=\"text-align: right;\">\n",
       "      <th></th>\n",
       "      <th>price_($)</th>\n",
       "      <th>weight_(kg)</th>\n",
       "      <th>length_(m)</th>\n",
       "      <th>width_(m)</th>\n",
       "      <th>height_(m)</th>\n",
       "    </tr>\n",
       "  </thead>\n",
       "  <tbody>\n",
       "    <tr>\n",
       "      <th>count</th>\n",
       "      <td>2.609610e+05</td>\n",
       "      <td>260961.000000</td>\n",
       "      <td>260961.000000</td>\n",
       "      <td>260961.000000</td>\n",
       "      <td>260961.000000</td>\n",
       "    </tr>\n",
       "    <tr>\n",
       "      <th>mean</th>\n",
       "      <td>4.182420e+03</td>\n",
       "      <td>323.909010</td>\n",
       "      <td>0.953425</td>\n",
       "      <td>0.530112</td>\n",
       "      <td>0.462566</td>\n",
       "    </tr>\n",
       "    <tr>\n",
       "      <th>std</th>\n",
       "      <td>6.225881e+04</td>\n",
       "      <td>1519.734573</td>\n",
       "      <td>1.924855</td>\n",
       "      <td>0.452834</td>\n",
       "      <td>0.512707</td>\n",
       "    </tr>\n",
       "    <tr>\n",
       "      <th>min</th>\n",
       "      <td>1.000000e+00</td>\n",
       "      <td>0.050000</td>\n",
       "      <td>0.050000</td>\n",
       "      <td>0.010000</td>\n",
       "      <td>0.010000</td>\n",
       "    </tr>\n",
       "    <tr>\n",
       "      <th>25%</th>\n",
       "      <td>2.785000e+01</td>\n",
       "      <td>0.710000</td>\n",
       "      <td>0.290000</td>\n",
       "      <td>0.210000</td>\n",
       "      <td>0.120000</td>\n",
       "    </tr>\n",
       "    <tr>\n",
       "      <th>50%</th>\n",
       "      <td>8.756000e+01</td>\n",
       "      <td>2.960000</td>\n",
       "      <td>0.600000</td>\n",
       "      <td>0.390000</td>\n",
       "      <td>0.250000</td>\n",
       "    </tr>\n",
       "    <tr>\n",
       "      <th>75%</th>\n",
       "      <td>2.576700e+02</td>\n",
       "      <td>67.340000</td>\n",
       "      <td>1.140000</td>\n",
       "      <td>0.800000</td>\n",
       "      <td>0.660000</td>\n",
       "    </tr>\n",
       "    <tr>\n",
       "      <th>max</th>\n",
       "      <td>1.998160e+06</td>\n",
       "      <td>24982.350000</td>\n",
       "      <td>30.000000</td>\n",
       "      <td>6.000000</td>\n",
       "      <td>5.990000</td>\n",
       "    </tr>\n",
       "  </tbody>\n",
       "</table>\n",
       "</div>"
      ],
      "text/plain": [
       "          price_($)    weight_(kg)     length_(m)      width_(m)  \\\n",
       "count  2.609610e+05  260961.000000  260961.000000  260961.000000   \n",
       "mean   4.182420e+03     323.909010       0.953425       0.530112   \n",
       "std    6.225881e+04    1519.734573       1.924855       0.452834   \n",
       "min    1.000000e+00       0.050000       0.050000       0.010000   \n",
       "25%    2.785000e+01       0.710000       0.290000       0.210000   \n",
       "50%    8.756000e+01       2.960000       0.600000       0.390000   \n",
       "75%    2.576700e+02      67.340000       1.140000       0.800000   \n",
       "max    1.998160e+06   24982.350000      30.000000       6.000000   \n",
       "\n",
       "          height_(m)  \n",
       "count  260961.000000  \n",
       "mean        0.462566  \n",
       "std         0.512707  \n",
       "min         0.010000  \n",
       "25%         0.120000  \n",
       "50%         0.250000  \n",
       "75%         0.660000  \n",
       "max         5.990000  "
      ]
     },
     "execution_count": 10,
     "metadata": {},
     "output_type": "execute_result"
    }
   ],
   "source": [
    "df.describe()"
   ]
  },
  {
   "cell_type": "markdown",
   "id": "e9ddc0a6",
   "metadata": {},
   "source": [
    "Adding three new columns country, city and volume for better analysis"
   ]
  },
  {
   "cell_type": "code",
   "execution_count": 12,
   "id": "1364a77d",
   "metadata": {},
   "outputs": [],
   "source": [
    "df['country'] = df.apply(lambda x: str(x['destination_port']).split(' ')[-1], axis = 1).str.replace('(', '').str.replace(')', '')\n",
    "df['city'] = df['destination_port'].str.extract(r'(\\w+)\\s*\\(')"
   ]
  },
  {
   "cell_type": "code",
   "execution_count": 13,
   "id": "61a346ca",
   "metadata": {},
   "outputs": [
    {
     "data": {
      "text/html": [
       "<div>\n",
       "<style scoped>\n",
       "    .dataframe tbody tr th:only-of-type {\n",
       "        vertical-align: middle;\n",
       "    }\n",
       "\n",
       "    .dataframe tbody tr th {\n",
       "        vertical-align: top;\n",
       "    }\n",
       "\n",
       "    .dataframe thead th {\n",
       "        text-align: right;\n",
       "    }\n",
       "</style>\n",
       "<table border=\"1\" class=\"dataframe\">\n",
       "  <thead>\n",
       "    <tr style=\"text-align: right;\">\n",
       "      <th></th>\n",
       "      <th>name</th>\n",
       "      <th>price_($)</th>\n",
       "      <th>weight_(kg)</th>\n",
       "      <th>length_(m)</th>\n",
       "      <th>width_(m)</th>\n",
       "      <th>height_(m)</th>\n",
       "      <th>shipment_date</th>\n",
       "      <th>destination_port</th>\n",
       "      <th>country</th>\n",
       "      <th>city</th>\n",
       "    </tr>\n",
       "  </thead>\n",
       "  <tbody>\n",
       "    <tr>\n",
       "      <th>0</th>\n",
       "      <td>Camera Bag</td>\n",
       "      <td>37.66</td>\n",
       "      <td>1.10</td>\n",
       "      <td>0.40</td>\n",
       "      <td>0.39</td>\n",
       "      <td>0.26</td>\n",
       "      <td>2023-03-19</td>\n",
       "      <td>Port of Singapore (Singapore)</td>\n",
       "      <td>Singapore</td>\n",
       "      <td>Singapore</td>\n",
       "    </tr>\n",
       "    <tr>\n",
       "      <th>1</th>\n",
       "      <td>Portable Bluetooth Keyboard</td>\n",
       "      <td>144.65</td>\n",
       "      <td>0.39</td>\n",
       "      <td>0.11</td>\n",
       "      <td>0.06</td>\n",
       "      <td>0.03</td>\n",
       "      <td>2023-03-21</td>\n",
       "      <td>Port of Busan (South Korea)</td>\n",
       "      <td>Korea</td>\n",
       "      <td>Busan</td>\n",
       "    </tr>\n",
       "    <tr>\n",
       "      <th>2</th>\n",
       "      <td>Large Flat Rate Box</td>\n",
       "      <td>38.57</td>\n",
       "      <td>0.97</td>\n",
       "      <td>0.79</td>\n",
       "      <td>0.55</td>\n",
       "      <td>0.35</td>\n",
       "      <td>2023-03-25</td>\n",
       "      <td>Port of Tianjin (China)</td>\n",
       "      <td>China</td>\n",
       "      <td>Tianjin</td>\n",
       "    </tr>\n",
       "    <tr>\n",
       "      <th>3</th>\n",
       "      <td>Ceramic Tiles</td>\n",
       "      <td>10.34</td>\n",
       "      <td>6.22</td>\n",
       "      <td>0.36</td>\n",
       "      <td>0.37</td>\n",
       "      <td>0.02</td>\n",
       "      <td>2023-03-15</td>\n",
       "      <td>Port of Shanghai (China)</td>\n",
       "      <td>China</td>\n",
       "      <td>Shanghai</td>\n",
       "    </tr>\n",
       "    <tr>\n",
       "      <th>4</th>\n",
       "      <td>Garden Hose</td>\n",
       "      <td>21.63</td>\n",
       "      <td>1.18</td>\n",
       "      <td>17.77</td>\n",
       "      <td>0.27</td>\n",
       "      <td>0.13</td>\n",
       "      <td>2023-03-25</td>\n",
       "      <td>Port of Tianjin (China)</td>\n",
       "      <td>China</td>\n",
       "      <td>Tianjin</td>\n",
       "    </tr>\n",
       "    <tr>\n",
       "      <th>...</th>\n",
       "      <td>...</td>\n",
       "      <td>...</td>\n",
       "      <td>...</td>\n",
       "      <td>...</td>\n",
       "      <td>...</td>\n",
       "      <td>...</td>\n",
       "      <td>...</td>\n",
       "      <td>...</td>\n",
       "      <td>...</td>\n",
       "      <td>...</td>\n",
       "    </tr>\n",
       "    <tr>\n",
       "      <th>263816</th>\n",
       "      <td>Canister</td>\n",
       "      <td>23.58</td>\n",
       "      <td>3.80</td>\n",
       "      <td>0.38</td>\n",
       "      <td>0.37</td>\n",
       "      <td>0.28</td>\n",
       "      <td>2023-03-13</td>\n",
       "      <td>Port of Busan (South Korea)</td>\n",
       "      <td>Korea</td>\n",
       "      <td>Busan</td>\n",
       "    </tr>\n",
       "    <tr>\n",
       "      <th>263817</th>\n",
       "      <td>Plant</td>\n",
       "      <td>15.98</td>\n",
       "      <td>1.20</td>\n",
       "      <td>0.42</td>\n",
       "      <td>0.29</td>\n",
       "      <td>0.34</td>\n",
       "      <td>2023-03-15</td>\n",
       "      <td>Port of Tokyo (Japan)</td>\n",
       "      <td>Japan</td>\n",
       "      <td>Tokyo</td>\n",
       "    </tr>\n",
       "    <tr>\n",
       "      <th>263818</th>\n",
       "      <td>Pallete of Dog Food</td>\n",
       "      <td>223.05</td>\n",
       "      <td>477.58</td>\n",
       "      <td>1.00</td>\n",
       "      <td>0.92</td>\n",
       "      <td>1.48</td>\n",
       "      <td>2023-03-19</td>\n",
       "      <td>Port of Tokyo (Japan)</td>\n",
       "      <td>Japan</td>\n",
       "      <td>Tokyo</td>\n",
       "    </tr>\n",
       "    <tr>\n",
       "      <th>263819</th>\n",
       "      <td>Coffee Maker</td>\n",
       "      <td>169.09</td>\n",
       "      <td>2.52</td>\n",
       "      <td>0.26</td>\n",
       "      <td>0.20</td>\n",
       "      <td>0.29</td>\n",
       "      <td>2023-03-20</td>\n",
       "      <td>Port of Shanghai (China)</td>\n",
       "      <td>China</td>\n",
       "      <td>Shanghai</td>\n",
       "    </tr>\n",
       "    <tr>\n",
       "      <th>263820</th>\n",
       "      <td>Pallete of Laptops</td>\n",
       "      <td>11674.74</td>\n",
       "      <td>24855.97</td>\n",
       "      <td>0.63</td>\n",
       "      <td>0.52</td>\n",
       "      <td>0.14</td>\n",
       "      <td>2023-03-22</td>\n",
       "      <td>Port of Shanghai (China)</td>\n",
       "      <td>China</td>\n",
       "      <td>Shanghai</td>\n",
       "    </tr>\n",
       "  </tbody>\n",
       "</table>\n",
       "<p>260961 rows × 10 columns</p>\n",
       "</div>"
      ],
      "text/plain": [
       "                               name  price_($)  weight_(kg)  length_(m)  \\\n",
       "0                        Camera Bag      37.66         1.10        0.40   \n",
       "1       Portable Bluetooth Keyboard     144.65         0.39        0.11   \n",
       "2               Large Flat Rate Box      38.57         0.97        0.79   \n",
       "3                     Ceramic Tiles      10.34         6.22        0.36   \n",
       "4                       Garden Hose      21.63         1.18       17.77   \n",
       "...                             ...        ...          ...         ...   \n",
       "263816                     Canister      23.58         3.80        0.38   \n",
       "263817                        Plant      15.98         1.20        0.42   \n",
       "263818          Pallete of Dog Food     223.05       477.58        1.00   \n",
       "263819                 Coffee Maker     169.09         2.52        0.26   \n",
       "263820           Pallete of Laptops   11674.74     24855.97        0.63   \n",
       "\n",
       "        width_(m)  height_(m) shipment_date               destination_port  \\\n",
       "0            0.39        0.26    2023-03-19  Port of Singapore (Singapore)   \n",
       "1            0.06        0.03    2023-03-21    Port of Busan (South Korea)   \n",
       "2            0.55        0.35    2023-03-25        Port of Tianjin (China)   \n",
       "3            0.37        0.02    2023-03-15       Port of Shanghai (China)   \n",
       "4            0.27        0.13    2023-03-25        Port of Tianjin (China)   \n",
       "...           ...         ...           ...                            ...   \n",
       "263816       0.37        0.28    2023-03-13    Port of Busan (South Korea)   \n",
       "263817       0.29        0.34    2023-03-15          Port of Tokyo (Japan)   \n",
       "263818       0.92        1.48    2023-03-19          Port of Tokyo (Japan)   \n",
       "263819       0.20        0.29    2023-03-20       Port of Shanghai (China)   \n",
       "263820       0.52        0.14    2023-03-22       Port of Shanghai (China)   \n",
       "\n",
       "          country       city  \n",
       "0       Singapore  Singapore  \n",
       "1           Korea      Busan  \n",
       "2           China    Tianjin  \n",
       "3           China   Shanghai  \n",
       "4           China    Tianjin  \n",
       "...           ...        ...  \n",
       "263816      Korea      Busan  \n",
       "263817      Japan      Tokyo  \n",
       "263818      Japan      Tokyo  \n",
       "263819      China   Shanghai  \n",
       "263820      China   Shanghai  \n",
       "\n",
       "[260961 rows x 10 columns]"
      ]
     },
     "execution_count": 13,
     "metadata": {},
     "output_type": "execute_result"
    }
   ],
   "source": [
    "df"
   ]
  },
  {
   "cell_type": "code",
   "execution_count": 14,
   "id": "30c699e8",
   "metadata": {},
   "outputs": [
    {
     "data": {
      "image/png": "[encoded data removed]",
      "text/plain": [
       "<Figure size 1152x432 with 1 Axes>"
      ]
     },
     "metadata": {
      "needs_background": "dark"
     },
     "output_type": "display_data"
    }
   ],
   "source": [
    "plt.figure(figsize=(16,6))\n",
    "plt.title('Count by product by country of destination',color='white',size=30)\n",
    "df.groupby('country')['country'].count().sort_values(ascending=False).head(10).plot(kind = 'bar', color = 'blue')\n",
    "plt.xticks(rotation=45, ha = 'right',color='white',size=14)\n",
    "plt.yticks(ha = 'right',color='white',size=14)\n",
    "plt.xlabel('Country',color='white',size=15)\n",
    "plt.show()"
   ]
  },
  {
   "cell_type": "code",
   "execution_count": 15,
   "id": "7fe19244",
   "metadata": {},
   "outputs": [
    {
     "data": {
      "image/png": "[encoded data removed]",
      "text/plain": [
       "<Figure size 1152x432 with 1 Axes>"
      ]
     },
     "metadata": {
      "needs_background": "dark"
     },
     "output_type": "display_data"
    }
   ],
   "source": [
    "plt.figure(figsize=(16,6))\n",
    "plt.title('Value of shippings by destination port(USD)',color='white',size=30)\n",
    "df.groupby('destination_port')['price_($)'].sum().sort_values(ascending=False).plot(kind = 'bar', color = 'blue')\n",
    "plt.xticks(rotation=90, ha = 'right',color='white',size=14)\n",
    "plt.yticks(ha = 'right',color='white',size=14)\n",
    "plt.xlabel('Port',color='white',size=15)\n",
    "plt.ylabel('Value in Billions',color='white',size=15)\n",
    "plt.show()"
   ]
  },
  {
   "cell_type": "code",
   "execution_count": 16,
   "id": "a2cff63d",
   "metadata": {},
   "outputs": [
    {
     "data": {
      "image/png": "[encoded data removed]",
      "text/plain": [
       "<Figure size 1152x432 with 1 Axes>"
      ]
     },
     "metadata": {
      "needs_background": "dark"
     },
     "output_type": "display_data"
    }
   ],
   "source": [
    "plt.figure(figsize=(16,6))\n",
    "plt.title('Count of products by destination port',color='white',size=30)\n",
    "df.groupby('destination_port')['city'].count().sort_values(ascending=False).plot(kind = 'bar', color = 'blue')\n",
    "plt.xticks(rotation=90, ha = 'right',color='white',size=14)\n",
    "plt.yticks(ha = 'right',color='white',size=14)\n",
    "plt.xlabel('Port',color='white',size=15)\n",
    "plt.ylabel('Count',color='white',size=15)\n",
    "plt.show()"
   ]
  },
  {
   "cell_type": "code",
   "execution_count": 17,
   "id": "a0039c76",
   "metadata": {},
   "outputs": [
    {
     "data": {
      "image/png": "[encoded data removed]",
      "text/plain": [
       "<Figure size 1152x432 with 1 Axes>"
      ]
     },
     "metadata": {
      "needs_background": "dark"
     },
     "output_type": "display_data"
    }
   ],
   "source": [
    "plt.figure(figsize=(16,6))\n",
    "plt.title('Top 10 shipped products',color='white',size=30)\n",
    "df.groupby('name')['name'].count().sort_values(ascending = False).head(10).plot(kind = 'bar', color = 'blue')\n",
    "plt.xticks(rotation = 45, ha = 'right',color='white')\n",
    "plt.yticks(ha = 'right',color='white')\n",
    "plt.xlabel('Names of the items',color='white',size=14)\n",
    "plt.show()"
   ]
  },
  {
   "cell_type": "code",
   "execution_count": 18,
   "id": "af055996",
   "metadata": {
    "scrolled": false
   },
   "outputs": [
    {
     "data": {
      "image/png": "[encoded data removed]",
      "text/plain": [
       "<Figure size 1152x432 with 1 Axes>"
      ]
     },
     "metadata": {
      "needs_background": "dark"
     },
     "output_type": "display_data"
    }
   ],
   "source": [
    "plt.figure(figsize=(16,6))\n",
    "plt.title('Least 10 shipped products',color='white',size=30)\n",
    "df.groupby('name')['name'].count().sort_values(ascending = True).head(10).plot(kind = 'bar', color = 'blue')\n",
    "plt.xticks(rotation = 45, ha = 'right',color='white')\n",
    "plt.yticks(ha = 'right',color='white')\n",
    "plt.xlabel('Names of the items',color='white',size=14)\n",
    "plt.show()"
   ]
  },
  {
   "cell_type": "code",
   "execution_count": 23,
   "id": "7628719c",
   "metadata": {},
   "outputs": [],
   "source": [
    "df['volume(m3)'] = df['width_(m)'] * df['length_(m)'] * df['height_(m)']\n"
   ]
  },
  {
   "cell_type": "code",
   "execution_count": 24,
   "id": "ee35d0dc",
   "metadata": {},
   "outputs": [
    {
     "data": {
      "image/png": "[encoded data removed]",
      "text/plain": [
       "<Figure size 1152x432 with 1 Axes>"
      ]
     },
     "metadata": {
      "needs_background": "dark"
     },
     "output_type": "display_data"
    }
   ],
   "source": [
    "plt.figure(figsize=(16,6))\n",
    "plt.title('Top 10 products by volume',color='white',size=30)\n",
    "df.groupby('name')['volume(m3)'].sum().sort_values(ascending = False).head(10).plot(kind = 'bar', color = 'blue')\n",
    "plt.xticks(rotation = 45, ha = 'right',color='white')\n",
    "plt.yticks(ha = 'right',color='white')\n",
    "plt.xlabel('Products',color='white',size=14)\n",
    "plt.ylabel('Volume(m3)',color='white',size=14)\n",
    "plt.show()"
   ]
  },
  {
   "cell_type": "code",
   "execution_count": 21,
   "id": "d62d9bc6",
   "metadata": {},
   "outputs": [
    {
     "data": {
      "image/png": "[encoded data removed]",
      "text/plain": [
       "<Figure size 1152x432 with 1 Axes>"
      ]
     },
     "metadata": {
      "needs_background": "dark"
     },
     "output_type": "display_data"
    }
   ],
   "source": [
    "plt.figure(figsize=(16,6))\n",
    "plt.title('Top 10 products by weight',color='white',size=30)\n",
    "df.groupby('name')['weight_(kg)'].sum().sort_values(ascending = False).head(10).plot(kind = 'bar', color = 'blue')\n",
    "plt.xticks(rotation = 45, ha = 'right',color='white')\n",
    "plt.yticks(ha = 'right',color='white')\n",
    "plt.xlabel('Products',color='white',size=14)\n",
    "plt.ylabel('Weight',color='white',size=14)\n",
    "plt.show()"
   ]
  },
  {
   "cell_type": "code",
   "execution_count": 25,
   "id": "0bfdd9e1",
   "metadata": {},
   "outputs": [
    {
     "data": {
      "text/html": [
       "<div>\n",
       "<style scoped>\n",
       "    .dataframe tbody tr th:only-of-type {\n",
       "        vertical-align: middle;\n",
       "    }\n",
       "\n",
       "    .dataframe tbody tr th {\n",
       "        vertical-align: top;\n",
       "    }\n",
       "\n",
       "    .dataframe thead th {\n",
       "        text-align: right;\n",
       "    }\n",
       "</style>\n",
       "<table border=\"1\" class=\"dataframe\">\n",
       "  <thead>\n",
       "    <tr style=\"text-align: right;\">\n",
       "      <th></th>\n",
       "      <th>Sum of Volume</th>\n",
       "      <th>Total Count</th>\n",
       "      <th>Total Weight</th>\n",
       "    </tr>\n",
       "  </thead>\n",
       "  <tbody>\n",
       "    <tr>\n",
       "      <th>ATV</th>\n",
       "      <td>2633.926790</td>\n",
       "      <td>685</td>\n",
       "      <td>380647.30</td>\n",
       "    </tr>\n",
       "    <tr>\n",
       "      <th>Air Conditioner</th>\n",
       "      <td>290.781906</td>\n",
       "      <td>1438</td>\n",
       "      <td>170461.46</td>\n",
       "    </tr>\n",
       "    <tr>\n",
       "      <th>Aluminum Sheets</th>\n",
       "      <td>75.846087</td>\n",
       "      <td>728</td>\n",
       "      <td>32905.37</td>\n",
       "    </tr>\n",
       "    <tr>\n",
       "      <th>Apples</th>\n",
       "      <td>244.906200</td>\n",
       "      <td>732</td>\n",
       "      <td>181316.51</td>\n",
       "    </tr>\n",
       "    <tr>\n",
       "      <th>Armchair</th>\n",
       "      <td>1236.983119</td>\n",
       "      <td>1494</td>\n",
       "      <td>39289.70</td>\n",
       "    </tr>\n",
       "    <tr>\n",
       "      <th>...</th>\n",
       "      <td>...</td>\n",
       "      <td>...</td>\n",
       "      <td>...</td>\n",
       "    </tr>\n",
       "    <tr>\n",
       "      <th>Wine Opener</th>\n",
       "      <td>1.229151</td>\n",
       "      <td>719</td>\n",
       "      <td>398.40</td>\n",
       "    </tr>\n",
       "    <tr>\n",
       "      <th>Wireless Earbuds</th>\n",
       "      <td>2.300709</td>\n",
       "      <td>759</td>\n",
       "      <td>92.82</td>\n",
       "    </tr>\n",
       "    <tr>\n",
       "      <th>Wooden Planks</th>\n",
       "      <td>118.453095</td>\n",
       "      <td>704</td>\n",
       "      <td>10587.80</td>\n",
       "    </tr>\n",
       "    <tr>\n",
       "      <th>Wristwatch</th>\n",
       "      <td>0.615841</td>\n",
       "      <td>690</td>\n",
       "      <td>103.22</td>\n",
       "    </tr>\n",
       "    <tr>\n",
       "      <th>Yoga Mat</th>\n",
       "      <td>68.371973</td>\n",
       "      <td>1480</td>\n",
       "      <td>2324.48</td>\n",
       "    </tr>\n",
       "  </tbody>\n",
       "</table>\n",
       "<p>288 rows × 3 columns</p>\n",
       "</div>"
      ],
      "text/plain": [
       "                  Sum of Volume  Total Count  Total Weight\n",
       "ATV                 2633.926790          685     380647.30\n",
       "Air Conditioner      290.781906         1438     170461.46\n",
       "Aluminum Sheets       75.846087          728      32905.37\n",
       "Apples               244.906200          732     181316.51\n",
       "Armchair            1236.983119         1494      39289.70\n",
       "...                         ...          ...           ...\n",
       "Wine Opener            1.229151          719        398.40\n",
       "Wireless Earbuds       2.300709          759         92.82\n",
       "Wooden Planks        118.453095          704      10587.80\n",
       "Wristwatch             0.615841          690        103.22\n",
       "Yoga Mat              68.371973         1480       2324.48\n",
       "\n",
       "[288 rows x 3 columns]"
      ]
     },
     "execution_count": 25,
     "metadata": {},
     "output_type": "execute_result"
    }
   ],
   "source": [
    "sum_volume = df.groupby('name')['volume(m3)'].sum()\n",
    "total_count = df['name'].value_counts()\n",
    "sum_weight = df.groupby('name')['weight_(kg)'].sum()\n",
    "result_df = pd.DataFrame({'Sum of Volume': sum_volume, 'Total Count': total_count, 'Total Weight': sum_weight})\n",
    "result_df"
   ]
  },
  {
   "cell_type": "markdown",
   "id": "58e892e3",
   "metadata": {},
   "source": [
    "## Destination port with highest and lowest value by shipping"
   ]
  },
  {
   "cell_type": "code",
   "execution_count": 26,
   "id": "501ac9d7",
   "metadata": {
    "scrolled": false
   },
   "outputs": [
    {
     "name": "stdout",
     "output_type": "stream",
     "text": [
      "The destination port with the highest total value is Port of Tianjin (China) with a total value of $241688068.83\n",
      "The destination port with the lowest total value is Port of Shanghai (China) with a total value of $203416891.81\n"
     ]
    }
   ],
   "source": [
    "destination_port_totals = df.groupby('destination_port')['price_($)'].sum()\n",
    "max_value_port = destination_port_totals.idxmax()\n",
    "max_value = destination_port_totals.max()\n",
    "min_value_port = destination_port_totals.idxmin()\n",
    "min_value = destination_port_totals.min()\n",
    "\n",
    "print(f\"The destination port with the highest total value is {max_value_port} with a total value of ${max_value:.2f}\")\n",
    "print(f\"The destination port with the lowest total value is {min_value_port} with a total value of ${min_value:.2f}\")\n"
   ]
  },
  {
   "cell_type": "markdown",
   "id": "86dab2d7",
   "metadata": {},
   "source": [
    "## Country with highest and lowest value by shipping"
   ]
  },
  {
   "cell_type": "code",
   "execution_count": 27,
   "id": "38b92e61",
   "metadata": {},
   "outputs": [
    {
     "name": "stdout",
     "output_type": "stream",
     "text": [
      "The country with the highest value by shipping is China with a total value of $445104960.64\n",
      "The country with the lowest value by shipping is Singapore with a total value of $206107905.45\n"
     ]
    }
   ],
   "source": [
    "country_total_value = df.groupby('country')['price_($)'].sum()\n",
    "country_with_highest_value = country_total_value.idxmax()\n",
    "highest_value = country_total_value.max()\n",
    "print(f\"The country with the highest value by shipping is {country_with_highest_value} with a total value of ${highest_value}\")\n",
    "country_with_lowest_value = country_total_value.idxmin()\n",
    "lowest_value = country_total_value.min()\n",
    "print(f\"The country with the lowest value by shipping is {country_with_lowest_value} with a total value of ${lowest_value}\")"
   ]
  }
 ],
 "metadata": {
  "kernelspec": {
   "display_name": "Python 3 (ipykernel)",
   "language": "python",
   "name": "python3"
  },
  "language_info": {
   "codemirror_mode": {
    "name": "ipython",
    "version": 3
   },
   "file_extension": ".py",
   "mimetype": "text/x-python",
   "name": "python",
   "nbconvert_exporter": "python",
   "pygments_lexer": "ipython3",
   "version": "3.9.12"
  }
 },
 "nbformat": 4,
 "nbformat_minor": 5
}
